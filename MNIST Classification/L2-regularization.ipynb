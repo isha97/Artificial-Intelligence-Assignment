{
 "cells": [
  {
   "cell_type": "code",
   "execution_count": 54,
   "metadata": {},
   "outputs": [],
   "source": [
    "import numpy as np\n",
    "np.random.seed(7)"
   ]
  },
  {
   "cell_type": "code",
   "execution_count": 55,
   "metadata": {},
   "outputs": [],
   "source": [
    "from keras.models import Sequential\n",
    "from keras.layers import Dense, Dropout, Activation\n",
    "from keras.utils import np_utils\n",
    "from keras.datasets import mnist\n",
    "from keras import regularizers"
   ]
  },
  {
   "cell_type": "code",
   "execution_count": 56,
   "metadata": {},
   "outputs": [
    {
     "name": "stdout",
     "output_type": "stream",
     "text": [
      "(60000, 28, 28)\n"
     ]
    }
   ],
   "source": [
    "(X_train, y_train), (X_test, y_test) = mnist.load_data()\n",
    "print (X_train.shape)"
   ]
  },
  {
   "cell_type": "code",
   "execution_count": 57,
   "metadata": {},
   "outputs": [
    {
     "name": "stdout",
     "output_type": "stream",
     "text": [
      "(60000, 784)\n"
     ]
    }
   ],
   "source": [
    "X_train = X_train.reshape(X_train.shape[0], 784)\n",
    "X_test = X_test.reshape(X_test.shape[0], 784)\n",
    "X_train = X_train.astype('float32')\n",
    "X_test = X_test.astype('float32')\n",
    "X_train /= 255 #normalize 0-1\n",
    "X_test /= 255\n",
    "print(X_train.shape)"
   ]
  },
  {
   "cell_type": "code",
   "execution_count": 58,
   "metadata": {},
   "outputs": [
    {
     "name": "stdout",
     "output_type": "stream",
     "text": [
      "(60000,)\n"
     ]
    }
   ],
   "source": [
    "print (y_train.shape)"
   ]
  },
  {
   "cell_type": "code",
   "execution_count": 59,
   "metadata": {},
   "outputs": [],
   "source": [
    "Y_train = np_utils.to_categorical(y_train, 10)\n",
    "Y_test = np_utils.to_categorical(y_test, 10)"
   ]
  },
  {
   "cell_type": "code",
   "execution_count": 60,
   "metadata": {},
   "outputs": [
    {
     "name": "stdout",
     "output_type": "stream",
     "text": [
      "(60000, 10)\n"
     ]
    }
   ],
   "source": [
    "print (Y_train.shape)"
   ]
  },
  {
   "cell_type": "code",
   "execution_count": 61,
   "metadata": {},
   "outputs": [],
   "source": [
    "model = Sequential()\n",
    "model.add(Dense(784, activation = 'relu',input_shape=(784,),kernel_regularizer=regularizers.l2(0.01)))\n",
    "model.add(Dense(64, activation = 'relu',kernel_regularizer=regularizers.l2(0.01)))\n",
    "model.add(Dense(10, activation='softmax'))"
   ]
  },
  {
   "cell_type": "code",
   "execution_count": 62,
   "metadata": {},
   "outputs": [],
   "source": [
    "model.compile(loss='categorical_crossentropy',\n",
    "              optimizer='adagrad',\n",
    "              metrics=['accuracy'])"
   ]
  },
  {
   "cell_type": "code",
   "execution_count": 63,
   "metadata": {},
   "outputs": [
    {
     "name": "stdout",
     "output_type": "stream",
     "text": [
      "Train on 60000 samples, validate on 10000 samples\n",
      "Epoch 1/50\n",
      "60000/60000 [==============================] - 45s 749us/step - loss: 0.8847 - acc: 0.8924 - val_loss: 0.6311 - val_acc: 0.9130\n",
      "Epoch 2/50\n",
      "60000/60000 [==============================] - 44s 730us/step - loss: 0.6045 - acc: 0.9165 - val_loss: 0.5845 - val_acc: 0.9180\n",
      "Epoch 3/50\n",
      "60000/60000 [==============================] - 45s 743us/step - loss: 0.5604 - acc: 0.9239 - val_loss: 0.5286 - val_acc: 0.9314\n",
      "Epoch 4/50\n",
      "60000/60000 [==============================] - 45s 753us/step - loss: 0.5327 - acc: 0.9275 - val_loss: 0.5101 - val_acc: 0.9312\n",
      "Epoch 5/50\n",
      "60000/60000 [==============================] - 45s 754us/step - loss: 0.5134 - acc: 0.9310 - val_loss: 0.4878 - val_acc: 0.9349\n",
      "Epoch 6/50\n",
      "60000/60000 [==============================] - 47s 788us/step - loss: 0.4980 - acc: 0.9342 - val_loss: 0.4804 - val_acc: 0.9404\n",
      "Epoch 7/50\n",
      "60000/60000 [==============================] - 50s 836us/step - loss: 0.4850 - acc: 0.9360 - val_loss: 0.4681 - val_acc: 0.9383\n",
      "Epoch 8/50\n",
      "60000/60000 [==============================] - 53s 877us/step - loss: 0.4742 - acc: 0.9374 - val_loss: 0.4679 - val_acc: 0.9399\n",
      "Epoch 9/50\n",
      "60000/60000 [==============================] - 54s 908us/step - loss: 0.4647 - acc: 0.9390 - val_loss: 0.4538 - val_acc: 0.9409\n",
      "Epoch 10/50\n",
      "60000/60000 [==============================] - 57s 955us/step - loss: 0.4566 - acc: 0.9403 - val_loss: 0.4465 - val_acc: 0.9401\n",
      "Epoch 11/50\n",
      "60000/60000 [==============================] - 55s 912us/step - loss: 0.4489 - acc: 0.9418 - val_loss: 0.4379 - val_acc: 0.9427\n",
      "Epoch 12/50\n",
      "60000/60000 [==============================] - 67s 1ms/step - loss: 0.4421 - acc: 0.9425 - val_loss: 0.4340 - val_acc: 0.9426\n",
      "Epoch 13/50\n",
      "60000/60000 [==============================] - 67s 1ms/step - loss: 0.4360 - acc: 0.9439 - val_loss: 0.4220 - val_acc: 0.9469\n",
      "Epoch 14/50\n",
      "60000/60000 [==============================] - 57s 953us/step - loss: 0.4301 - acc: 0.9457 - val_loss: 0.4193 - val_acc: 0.9459\n",
      "Epoch 15/50\n",
      "60000/60000 [==============================] - 58s 968us/step - loss: 0.4256 - acc: 0.9452 - val_loss: 0.4161 - val_acc: 0.9488\n",
      "Epoch 16/50\n",
      "60000/60000 [==============================] - 66s 1ms/step - loss: 0.4207 - acc: 0.9467 - val_loss: 0.4088 - val_acc: 0.9501\n",
      "Epoch 17/50\n",
      "60000/60000 [==============================] - 44s 736us/step - loss: 0.4162 - acc: 0.9475 - val_loss: 0.4061 - val_acc: 0.9469\n",
      "Epoch 18/50\n",
      "60000/60000 [==============================] - 47s 775us/step - loss: 0.4122 - acc: 0.9472 - val_loss: 0.4024 - val_acc: 0.9506\n",
      "Epoch 19/50\n",
      "60000/60000 [==============================] - 44s 739us/step - loss: 0.4081 - acc: 0.9481 - val_loss: 0.3960 - val_acc: 0.9490\n",
      "Epoch 20/50\n",
      "60000/60000 [==============================] - 42s 701us/step - loss: 0.4043 - acc: 0.9492 - val_loss: 0.3932 - val_acc: 0.9506\n",
      "Epoch 21/50\n",
      "60000/60000 [==============================] - 45s 748us/step - loss: 0.4008 - acc: 0.9499 - val_loss: 0.3929 - val_acc: 0.9519\n",
      "Epoch 22/50\n",
      "60000/60000 [==============================] - 47s 775us/step - loss: 0.3976 - acc: 0.9501 - val_loss: 0.3862 - val_acc: 0.9525\n",
      "Epoch 23/50\n",
      "60000/60000 [==============================] - 61s 1ms/step - loss: 0.3945 - acc: 0.9508 - val_loss: 0.3852 - val_acc: 0.9526\n",
      "Epoch 24/50\n",
      "60000/60000 [==============================] - 52s 858us/step - loss: 0.3914 - acc: 0.9507 - val_loss: 0.3813 - val_acc: 0.9525\n",
      "Epoch 25/50\n",
      "60000/60000 [==============================] - 43s 717us/step - loss: 0.3885 - acc: 0.9514 - val_loss: 0.3785 - val_acc: 0.9520\n",
      "Epoch 26/50\n",
      "60000/60000 [==============================] - 44s 736us/step - loss: 0.3860 - acc: 0.9523 - val_loss: 0.3769 - val_acc: 0.9530\n",
      "Epoch 27/50\n",
      "60000/60000 [==============================] - 48s 796us/step - loss: 0.3831 - acc: 0.9521 - val_loss: 0.3740 - val_acc: 0.9532\n",
      "Epoch 28/50\n",
      "60000/60000 [==============================] - 50s 832us/step - loss: 0.3808 - acc: 0.9526 - val_loss: 0.3737 - val_acc: 0.9551\n",
      "Epoch 29/50\n",
      "60000/60000 [==============================] - 54s 905us/step - loss: 0.3783 - acc: 0.9537 - val_loss: 0.3699 - val_acc: 0.9569\n",
      "Epoch 30/50\n",
      "60000/60000 [==============================] - 47s 791us/step - loss: 0.3760 - acc: 0.9537 - val_loss: 0.3676 - val_acc: 0.9539\n",
      "Epoch 31/50\n",
      "60000/60000 [==============================] - 46s 761us/step - loss: 0.3741 - acc: 0.9539 - val_loss: 0.3672 - val_acc: 0.9540\n",
      "Epoch 32/50\n",
      "60000/60000 [==============================] - 45s 744us/step - loss: 0.3714 - acc: 0.9540 - val_loss: 0.3647 - val_acc: 0.9548\n",
      "Epoch 33/50\n",
      "60000/60000 [==============================] - 54s 896us/step - loss: 0.3696 - acc: 0.9547 - val_loss: 0.3604 - val_acc: 0.9551\n",
      "Epoch 34/50\n",
      "60000/60000 [==============================] - 42s 703us/step - loss: 0.3679 - acc: 0.9546 - val_loss: 0.3594 - val_acc: 0.9576\n",
      "Epoch 35/50\n",
      "60000/60000 [==============================] - 41s 691us/step - loss: 0.3658 - acc: 0.9556 - val_loss: 0.3591 - val_acc: 0.9552\n",
      "Epoch 36/50\n",
      "60000/60000 [==============================] - 44s 728us/step - loss: 0.3636 - acc: 0.9558 - val_loss: 0.3556 - val_acc: 0.9574\n",
      "Epoch 37/50\n",
      "60000/60000 [==============================] - 42s 698us/step - loss: 0.3622 - acc: 0.9557 - val_loss: 0.3528 - val_acc: 0.9574\n",
      "Epoch 38/50\n",
      "60000/60000 [==============================] - 41s 689us/step - loss: 0.3602 - acc: 0.9566 - val_loss: 0.3555 - val_acc: 0.9561\n",
      "Epoch 39/50\n",
      "60000/60000 [==============================] - 43s 725us/step - loss: 0.3587 - acc: 0.9562 - val_loss: 0.3518 - val_acc: 0.9573\n",
      "Epoch 40/50\n",
      "60000/60000 [==============================] - 43s 720us/step - loss: 0.3571 - acc: 0.9569 - val_loss: 0.3485 - val_acc: 0.9580\n",
      "Epoch 41/50\n",
      "60000/60000 [==============================] - 41s 689us/step - loss: 0.3553 - acc: 0.9572 - val_loss: 0.3491 - val_acc: 0.9577\n",
      "Epoch 42/50\n",
      "60000/60000 [==============================] - 43s 720us/step - loss: 0.3538 - acc: 0.9572 - val_loss: 0.3493 - val_acc: 0.9575\n",
      "Epoch 43/50\n",
      "60000/60000 [==============================] - 44s 726us/step - loss: 0.3523 - acc: 0.9577 - val_loss: 0.3454 - val_acc: 0.9581\n",
      "Epoch 44/50\n",
      "60000/60000 [==============================] - 42s 694us/step - loss: 0.3511 - acc: 0.9575 - val_loss: 0.3442 - val_acc: 0.9573\n",
      "Epoch 45/50\n",
      "60000/60000 [==============================] - 43s 720us/step - loss: 0.3493 - acc: 0.9580 - val_loss: 0.3444 - val_acc: 0.9581\n",
      "Epoch 46/50\n",
      "60000/60000 [==============================] - 44s 727us/step - loss: 0.3480 - acc: 0.9585 - val_loss: 0.3412 - val_acc: 0.9586\n",
      "Epoch 47/50\n",
      "60000/60000 [==============================] - 44s 726us/step - loss: 0.3463 - acc: 0.9589 - val_loss: 0.3417 - val_acc: 0.9585\n",
      "Epoch 48/50\n",
      "60000/60000 [==============================] - 44s 725us/step - loss: 0.3451 - acc: 0.9583 - val_loss: 0.3401 - val_acc: 0.9596\n",
      "Epoch 49/50\n",
      "60000/60000 [==============================] - 42s 695us/step - loss: 0.3441 - acc: 0.9592 - val_loss: 0.3417 - val_acc: 0.9568\n",
      "Epoch 50/50\n",
      "60000/60000 [==============================] - 43s 719us/step - loss: 0.3427 - acc: 0.9589 - val_loss: 0.3372 - val_acc: 0.9579\n"
     ]
    }
   ],
   "source": [
    "info = model.fit(X_train, Y_train, validation_data=(X_test, Y_test), epochs=50, batch_size=32, verbose = 1)"
   ]
  },
  {
   "cell_type": "code",
   "execution_count": 65,
   "metadata": {},
   "outputs": [
    {
     "data": {
      "image/png": "[encoded data removed]",
      "text/plain": [
       "<matplotlib.figure.Figure at 0x7f0ce39645f8>"
      ]
     },
     "metadata": {},
     "output_type": "display_data"
    }
   ],
   "source": [
    "#print(info.history.keys())\n",
    "import matplotlib.pyplot as plt\n",
    "plt.plot(info.history['acc'])\n",
    "plt.plot(info.history['val_acc'])\n",
    "plt.title('Model Accuracy')\n",
    "plt.ylabel('Accuracy')\n",
    "plt.xlabel('Epoch')\n",
    "plt.legend(['train', 'test'], loc='upper left')\n",
    "plt.show()"
   ]
  },
  {
   "cell_type": "code",
   "execution_count": 66,
   "metadata": {},
   "outputs": [
    {
     "data": {
      "image/png": "[encoded data removed]",
      "text/plain": [
       "<matplotlib.figure.Figure at 0x7f0ce3931da0>"
      ]
     },
     "metadata": {},
     "output_type": "display_data"
    }
   ],
   "source": [
    "plt.plot(info.history['loss'])\n",
    "plt.plot(info.history['val_loss'])\n",
    "plt.title('Model Loss')\n",
    "plt.ylabel('Loss')\n",
    "plt.xlabel('Epoch')\n",
    "plt.legend(['train', 'test'], loc='upper right')\n",
    "plt.show()"
   ]
  },
  {
   "cell_type": "code",
   "execution_count": 67,
   "metadata": {},
   "outputs": [
    {
     "name": "stdout",
     "output_type": "stream",
     "text": [
      "10000/10000 [==============================] - 2s 177us/step\n",
      "Test Accuracy:  95.78999999999999\n"
     ]
    }
   ],
   "source": [
    "score = model.evaluate(X_test, Y_test, verbose=1)\n",
    "print (\"Test Accuracy: \",score[1]*100)"
   ]
  },
  {
   "cell_type": "code",
   "execution_count": 68,
   "metadata": {
    "scrolled": true
   },
   "outputs": [
    {
     "name": "stdout",
     "output_type": "stream",
     "text": [
      "_________________________________________________________________\n",
      "Layer (type)                 Output Shape              Param #   \n",
      "=================================================================\n",
      "dense_19 (Dense)             (None, 784)               615440    \n",
      "_________________________________________________________________\n",
      "dense_20 (Dense)             (None, 64)                50240     \n",
      "_________________________________________________________________\n",
      "dense_21 (Dense)             (None, 10)                650       \n",
      "=================================================================\n",
      "Total params: 666,330\n",
      "Trainable params: 666,330\n",
      "Non-trainable params: 0\n",
      "_________________________________________________________________\n"
     ]
    }
   ],
   "source": [
    "model.summary()"
   ]
  },
  {
   "cell_type": "code",
   "execution_count": null,
   "metadata": {},
   "outputs": [],
   "source": []
  }
 ],
 "metadata": {
  "kernelspec": {
   "display_name": "Python 3",
   "language": "python",
   "name": "python3"
  },
  "language_info": {
   "codemirror_mode": {
    "name": "ipython",
    "version": 3
   },
   "file_extension": ".py",
   "mimetype": "text/x-python",
   "name": "python",
   "nbconvert_exporter": "python",
   "pygments_lexer": "ipython3",
   "version": "3.4.3"
  }
 },
 "nbformat": 4,
 "nbformat_minor": 2
}
